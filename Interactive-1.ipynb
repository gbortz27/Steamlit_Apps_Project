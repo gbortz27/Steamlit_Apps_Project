{
 "cells": [
  {
   "cell_type": "markdown",
   "metadata": {},
   "source": [
    "Connected to snowpark (Python 3.8.20)"
   ]
  },
  {
   "cell_type": "code",
   "execution_count": null,
   "id": "93ad7b53-d973-432f-a005-1dccf07f973a",
   "metadata": {},
   "outputs": [],
   "source": [
    "df_customer_info=session.table(\"TEST_YMH.CYBER_SEC_TESTING.TIMESHEET_TIMESHEET\")\n",
    "\n",
    "\n",
    "# # In[13]:\n",
    "\n",
    "\n",
    "df_customer_info_selected = df_customer_info.select(col(\"ID\"),col(\"VEHICLE_CODE\"))\n",
    "\n",
    "\n",
    "# # In[18]:\n",
    "\n",
    "\n",
    "df_customer_info_selected.show()"
   ]
  },
  {
   "cell_type": "code",
   "execution_count": null,
   "id": "e840c25e-6d91-4b76-a213-76cb0e0a1880",
   "metadata": {},
   "outputs": [],
   "source": [
    "session = Session.builder.configs(connection_parameters).create()"
   ]
  },
  {
   "cell_type": "code",
   "execution_count": null,
   "id": "74dc34fd-a986-4c6b-8f76-f91130e4bade",
   "metadata": {},
   "outputs": [
    {
     "name": "stderr",
     "output_type": "stream",
     "text": [
      "<ipython-input-3-37d996145e99>:2: DeprecationWarning: Python Runtime 3.8 reached its End-Of-Life (EOL) on October 14, 2024, there will be no further bug fixes or security updates for this runtime. We recommend that you upgrade your existing Python 3.8 objects to Python 3.9, 3.10 or 3.11 before March 31, 2025. Please note that end of support does not impact execution, and you will still be able to update and invoke existing objects. However, they will be running on an unsupported runtime which will no longer be maintained or patched by the Snowflake team. For more details, please refer to https://docs.snowflake.com/en/developer-guide/python-runtime-support-policy.\n",
      "  import snowflake.snowpark.functions\n"
     ]
    }
   ],
   "source": [
    "import os\n",
    "import snowflake.snowpark.functions\n",
    "from snowflake.snowpark import Session\n",
    "from snowflake.snowpark.functions import col\n",
    "\n",
    "connection_parameters = {\"account\":\"jm52830.eu-west-1\",\n",
    "\"user\":\"GRAHAM_BORTZ\",\n",
    "\"password\": \"Greenham27\",\n",
    "\"role\":\"CYBER_SEC_TESTING\",\n",
    "\"warehouse\":\"ANALYSIS_VWH\",\n",
    "\"database\":\"TEST_YMH\",\n",
    "\"schema\":\"CYBER_SEC_TESTING\"\n",
    "}"
   ]
  },
  {
   "cell_type": "code",
   "execution_count": null,
   "id": "8fe241ab-bebf-45d9-9e87-93943b9cae42",
   "metadata": {},
   "outputs": [
    {
     "name": "stdout",
     "output_type": "stream",
     "text": [
      "[Row(CURRENT_WAREHOUSE()='ANALYSIS_VWH', CURRENT_DATABASE()='TEST_YMH', CURRENT_SCHEMA()='CYBER_SEC_TESTING')]\n"
     ]
    }
   ],
   "source": [
    "test_session = Session.builder.configs(connection_parameters).create()\n",
    "\n",
    "print(test_session.sql(\"select current_warehouse(), current_database(), current_schema()\").collect())"
   ]
  },
  {
   "cell_type": "code",
   "execution_count": null,
   "id": "5497de00-7277-4c32-a4dc-320db7624542",
   "metadata": {},
   "outputs": [],
   "source": [
    "session = Session.builder.configs(connection_parameters).create()"
   ]
  },
  {
   "cell_type": "code",
   "execution_count": null,
   "id": "41b3b28a-1acb-4452-9b5c-b415e626af06",
   "metadata": {},
   "outputs": [],
   "source": [
    "df_customer_info=session.table(\"TEST_YMH.CYBER_SEC_TESTING.TIMESHEET_TIMESHEET\")"
   ]
  },
  {
   "cell_type": "code",
   "execution_count": null,
   "id": "a14007a7-70f9-4482-aa99-8f25dff6cf59",
   "metadata": {},
   "outputs": [
    {
     "name": "stdout",
     "output_type": "stream",
     "text": [
      "-------------------------\n",
      "|\"ID\"  |\"VEHICLE_CODE\"  |\n",
      "-------------------------\n",
      "|968   |BT11            |\n",
      "|973   |Q14             |\n",
      "|974   |Q17             |\n",
      "|975   |Q15             |\n",
      "|976   |Q14             |\n",
      "|977   |Q10             |\n",
      "|978   |Q17             |\n",
      "|979   |Q17             |\n",
      "|980   |Q16             |\n",
      "|985   |Q1              |\n",
      "-------------------------\n",
      "\n"
     ]
    }
   ],
   "source": [
    "df_customer_info_selected = df_customer_info.select(col(\"ID\"),col(\"VEHICLE_CODE\"))\n",
    "\n",
    "\n",
    "# # In[18]:\n",
    "\n",
    "\n",
    "df_customer_info_selected.show()"
   ]
  },
  {
   "cell_type": "code",
   "execution_count": null,
   "id": "a0060b27-dfe3-495f-b27a-f4bee4490b71",
   "metadata": {},
   "outputs": [
    {
     "name": "stdout",
     "output_type": "stream",
     "text": [
      "------------------\n",
      "|\"TIMESHEET_ID\"  |\n",
      "------------------\n",
      "|1056            |\n",
      "|1055            |\n",
      "|1057            |\n",
      "------------------\n",
      "\n"
     ]
    }
   ],
   "source": [
    "GB_Missing_ts_in_Days_not_Tsheets=session.sql(\"SELECT * FROM GB_Missing_ts_in_Days_not_Tsheets\")\n",
    "\n",
    "\n",
    "# In[21]:\n",
    "\n",
    "\n",
    "type(GB_Missing_ts_in_Days_not_Tsheets)\n",
    "\n",
    "\n",
    "# In[23]:\n",
    "\n",
    "\n",
    "GB_Missing_ts_in_Days_not_Tsheets.show()"
   ]
  },
  {
   "cell_type": "code",
   "execution_count": null,
   "id": "d77ad5b9-c5d4-46b4-a809-905968830557",
   "metadata": {},
   "outputs": [],
   "source": [
    "import os\n",
    "import snowflake.snowpark.functions\n",
    "from snowflake.snowpark import Session\n",
    "from snowflake.snowpark.functions import col\n",
    "\n",
    "connection_parameters = {\"account\":\"jm52830.eu-west-1\",\n",
    "\"user\":\"GRAHAM_BORTZ\",\n",
    "\"password\": \"Greenham27\",\n",
    "\"role\":\"CYBER_SEC_TESTING\",\n",
    "\"warehouse\":\"ANALYSIS_VWH\",\n",
    "\"database\":\"TEST_YMH\",\n",
    "\"schema\":\"CYBER_SEC_TESTING\"\n",
    "}"
   ]
  },
  {
   "cell_type": "code",
   "execution_count": null,
   "id": "c0a3a62e-b99f-40ce-8fd7-7c5c3a49bc7c",
   "metadata": {},
   "outputs": [
    {
     "name": "stdout",
     "output_type": "stream",
     "text": [
      "[Row(CURRENT_WAREHOUSE()='ANALYSIS_VWH', CURRENT_DATABASE()='TEST_YMH', CURRENT_SCHEMA()='CYBER_SEC_TESTING')]\n",
      "-------------------------\n",
      "|\"ID\"  |\"VEHICLE_CODE\"  |\n",
      "-------------------------\n",
      "|968   |BT11            |\n",
      "|973   |Q14             |\n",
      "|974   |Q17             |\n",
      "|975   |Q15             |\n",
      "|976   |Q14             |\n",
      "|977   |Q10             |\n",
      "|978   |Q17             |\n",
      "|979   |Q17             |\n",
      "|980   |Q16             |\n",
      "|985   |Q1              |\n",
      "-------------------------\n",
      "\n"
     ]
    }
   ],
   "source": [
    "test_session = Session.builder.configs(connection_parameters).create()\n",
    "\n",
    "print(test_session.sql(\"select current_warehouse(), current_database(), current_schema()\").collect())\n",
    "\n",
    "session = Session.builder.configs(connection_parameters).create()\n",
    "\n",
    "\n",
    "# # In[11]:\n",
    "\n",
    "\n",
    "df_customer_info=session.table(\"TEST_YMH.CYBER_SEC_TESTING.TIMESHEET_TIMESHEET\")\n",
    "\n",
    "\n",
    "# # In[13]:\n",
    "\n",
    "\n",
    "df_customer_info_selected = df_customer_info.select(col(\"ID\"),col(\"VEHICLE_CODE\"))\n",
    "\n",
    "\n",
    "# # In[18]:\n",
    "\n",
    "\n",
    "df_customer_info_selected.show()"
   ]
  },
  {
   "cell_type": "code",
   "execution_count": null,
   "id": "8541e525-8467-472f-ae28-d88f6f27dc4b",
   "metadata": {},
   "outputs": [
    {
     "name": "stdout",
     "output_type": "stream",
     "text": [
      "------------------\n",
      "|\"TIMESHEET_ID\"  |\n",
      "------------------\n",
      "|1057            |\n",
      "|1056            |\n",
      "|1055            |\n",
      "------------------\n",
      "\n"
     ]
    }
   ],
   "source": [
    "GB_Missing_ts_in_Days_not_Tsheets=session.sql(\"SELECT * FROM GB_Missing_ts_in_Days_not_Tsheets\")\n",
    "\n",
    "\n",
    "# In[21]:\n",
    "\n",
    "\n",
    "type(GB_Missing_ts_in_Days_not_Tsheets)\n",
    "\n",
    "\n",
    "# In[23]:\n",
    "\n",
    "\n",
    "GB_Missing_ts_in_Days_not_Tsheets.show()"
   ]
  }
 ],
 "metadata": {
  "kernelspec": {
   "display_name": "snowpark",
   "language": "python",
   "name": "python3"
  },
  "language_info": {
   "name": "python",
   "version": "3.8.20"
  }
 },
 "nbformat": 4,
 "nbformat_minor": 2
}
